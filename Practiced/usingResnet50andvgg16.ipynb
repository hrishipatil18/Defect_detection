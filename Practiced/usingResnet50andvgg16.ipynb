{
 "cells": [
  {
   "cell_type": "code",
   "execution_count": 2,
   "metadata": {},
   "outputs": [],
   "source": [
    "import os\n",
    "import cv2\n",
    "import numpy as np\n",
    "import pandas as pd\n",
    "import tensorflow as tf\n",
    "from tensorflow.keras.preprocessing.image import ImageDataGenerator\n",
    "from sklearn.model_selection import train_test_split\n",
    "import shutil"
   ]
  },
  {
   "cell_type": "code",
   "execution_count": 3,
   "metadata": {},
   "outputs": [],
   "source": [
    "def load_dataset(dataset_path):\n",
    "    image_paths = []\n",
    "    labels = []\n",
    "    \n",
    "    for label in os.listdir(dataset_path):\n",
    "        class_path = os.path.join(dataset_path, label)\n",
    "        if os.path.isdir(class_path):\n",
    "            for img_name in os.listdir(class_path):\n",
    "                img_path = os.path.join(class_path, img_name)\n",
    "                image_paths.append(img_path)\n",
    "                labels.append(label)\n",
    "    \n",
    "    return pd.DataFrame({'image_path': image_paths, 'label': labels})\n"
   ]
  },
  {
   "cell_type": "code",
   "execution_count": 8,
   "metadata": {},
   "outputs": [],
   "source": [
    "# Split dataset\n",
    "def split_dataset(df, test_size=0.2):\n",
    "    train_df, test_df = train_test_split(df, test_size=test_size, stratify=df['label'], random_state=42)\n",
    "    return train_df, test_df"
   ]
  },
  {
   "cell_type": "code",
   "execution_count": 9,
   "metadata": {},
   "outputs": [],
   "source": [
    "# Data Augmentation\n",
    "def create_data_generators(train_df, test_df, img_size=(227, 227), batch_size=32):\n",
    "    datagen = ImageDataGenerator(rescale=1./255, rotation_range=20, width_shift_range=0.2,\n",
    "                                 height_shift_range=0.2, horizontal_flip=True)\n",
    "    \n",
    "    train_generator = datagen.flow_from_dataframe(\n",
    "        train_df, x_col='image_path', y_col='label', target_size=img_size,\n",
    "        batch_size=batch_size, class_mode='categorical' if len(train_df['label'].unique()) == 2 else 'categorical'\n",
    "    )\n",
    "\n",
    "    test_datagen = ImageDataGenerator(rescale=1./255)\n",
    "    test_generator = test_datagen.flow_from_dataframe(\n",
    "        test_df, x_col='image_path', y_col='label', target_size=img_size,\n",
    "        batch_size=batch_size, class_mode='categorical' if len(train_df['label'].unique()) == 2 else 'categorical'\n",
    "    )\n",
    "\n",
    "    return train_generator, test_generator"
   ]
  },
  {
   "cell_type": "code",
   "execution_count": 22,
   "metadata": {},
   "outputs": [
    {
     "data": {
      "text/html": [
       "<div>\n",
       "<style scoped>\n",
       "    .dataframe tbody tr th:only-of-type {\n",
       "        vertical-align: middle;\n",
       "    }\n",
       "\n",
       "    .dataframe tbody tr th {\n",
       "        vertical-align: top;\n",
       "    }\n",
       "\n",
       "    .dataframe thead th {\n",
       "        text-align: right;\n",
       "    }\n",
       "</style>\n",
       "<table border=\"1\" class=\"dataframe\">\n",
       "  <thead>\n",
       "    <tr style=\"text-align: right;\">\n",
       "      <th></th>\n",
       "      <th>image_path</th>\n",
       "      <th>label</th>\n",
       "    </tr>\n",
       "  </thead>\n",
       "  <tbody>\n",
       "    <tr>\n",
       "      <th>8494</th>\n",
       "      <td>../dataset\\Negative\\08495.jpg</td>\n",
       "      <td>Negative</td>\n",
       "    </tr>\n",
       "    <tr>\n",
       "      <th>29965</th>\n",
       "      <td>../dataset\\Positive\\09966.jpg</td>\n",
       "      <td>Positive</td>\n",
       "    </tr>\n",
       "    <tr>\n",
       "      <th>4302</th>\n",
       "      <td>../dataset\\Negative\\04303.jpg</td>\n",
       "      <td>Negative</td>\n",
       "    </tr>\n",
       "    <tr>\n",
       "      <th>17489</th>\n",
       "      <td>../dataset\\Negative\\17490.jpg</td>\n",
       "      <td>Negative</td>\n",
       "    </tr>\n",
       "    <tr>\n",
       "      <th>29855</th>\n",
       "      <td>../dataset\\Positive\\09856.jpg</td>\n",
       "      <td>Positive</td>\n",
       "    </tr>\n",
       "    <tr>\n",
       "      <th>...</th>\n",
       "      <td>...</td>\n",
       "      <td>...</td>\n",
       "    </tr>\n",
       "    <tr>\n",
       "      <th>37723</th>\n",
       "      <td>../dataset\\Positive\\17724_1.jpg</td>\n",
       "      <td>Positive</td>\n",
       "    </tr>\n",
       "    <tr>\n",
       "      <th>37930</th>\n",
       "      <td>../dataset\\Positive\\17931_1.jpg</td>\n",
       "      <td>Positive</td>\n",
       "    </tr>\n",
       "    <tr>\n",
       "      <th>8040</th>\n",
       "      <td>../dataset\\Negative\\08041.jpg</td>\n",
       "      <td>Negative</td>\n",
       "    </tr>\n",
       "    <tr>\n",
       "      <th>36247</th>\n",
       "      <td>../dataset\\Positive\\16248_1.jpg</td>\n",
       "      <td>Positive</td>\n",
       "    </tr>\n",
       "    <tr>\n",
       "      <th>32645</th>\n",
       "      <td>../dataset\\Positive\\12646_1.jpg</td>\n",
       "      <td>Positive</td>\n",
       "    </tr>\n",
       "  </tbody>\n",
       "</table>\n",
       "<p>32000 rows × 2 columns</p>\n",
       "</div>"
      ],
      "text/plain": [
       "                            image_path     label\n",
       "8494     ../dataset\\Negative\\08495.jpg  Negative\n",
       "29965    ../dataset\\Positive\\09966.jpg  Positive\n",
       "4302     ../dataset\\Negative\\04303.jpg  Negative\n",
       "17489    ../dataset\\Negative\\17490.jpg  Negative\n",
       "29855    ../dataset\\Positive\\09856.jpg  Positive\n",
       "...                                ...       ...\n",
       "37723  ../dataset\\Positive\\17724_1.jpg  Positive\n",
       "37930  ../dataset\\Positive\\17931_1.jpg  Positive\n",
       "8040     ../dataset\\Negative\\08041.jpg  Negative\n",
       "36247  ../dataset\\Positive\\16248_1.jpg  Positive\n",
       "32645  ../dataset\\Positive\\12646_1.jpg  Positive\n",
       "\n",
       "[32000 rows x 2 columns]"
      ]
     },
     "execution_count": 22,
     "metadata": {},
     "output_type": "execute_result"
    }
   ],
   "source": [
    "import tensorflow as tf\n",
    "from tensorflow.keras.applications import ResNet50, MobileNetV2\n",
    "from tensorflow.keras.layers import Dense, Flatten, Dropout\n",
    "from tensorflow.keras.models import Model\n",
    "from tensorflow.keras.optimizers import Adam\n",
    "#from preprocess import load_dataset, split_dataset, create_data_generators"
   ]
  },
  {
   "cell_type": "code",
   "execution_count": null,
   "metadata": {},
   "outputs": [],
   "source": [
    "# Load and preprocess data\n",
    "dataset_path = \"./dataset\"\n",
    "df = load_dataset(dataset_path)\n",
    "train_df, test_df = split_dataset(df)\n",
    "train_generator, test_generator = create_data_generators(train_df, test_df)"
   ]
  },
  {
   "cell_type": "code",
   "execution_count": 37,
   "metadata": {},
   "outputs": [
    {
     "data": {
      "text/plain": [
       "(2, 2)"
      ]
     },
     "execution_count": 37,
     "metadata": {},
     "output_type": "execute_result"
    }
   ],
   "source": [
    "# Model Architectures\n",
    "def build_model(base_model_name=\"ResNet50\", input_shape=(227, 227, 3), num_classes=2):\n",
    "    if base_model_name == \"ResNet50\":\n",
    "        base_model = ResNet50(weights=\"imagenet\", include_top=False, input_shape=input_shape)\n",
    "    elif base_model_name == \"MobileNetV2\":\n",
    "        base_model = MobileNetV2(weights=\"imagenet\", include_top=False, input_shape=input_shape)\n",
    "    else:\n",
    "        raise ValueError(\"Invalid model name\")\n",
    "\n",
    "    base_model.trainable = False\n",
    "    x = Flatten()(base_model.output)\n",
    "    x = Dense(256, activation=\"relu\")(x)\n",
    "    x = Dropout(0.5)(x)\n",
    "    output = Dense(num_classes, activation=\"sigmoid\" if num_classes == 2 else \"softmax\")(x)\n",
    "\n",
    "    model = Model(inputs=base_model.input, outputs=output)\n",
    "    model.compile(optimizer=Adam(learning_rate=0.0001),\n",
    "                  loss=\"binary_crossentropy\" if num_classes == 2 else \"categorical_crossentropy\",\n",
    "                  metrics=[\"accuracy\"])\n",
    "    \n",
    "    return model \n"
   ]
  },
  {
   "cell_type": "code",
   "execution_count": 40,
   "metadata": {},
   "outputs": [],
   "source": [
    "# Train and save models\n",
    "resnet_model = build_model(\"ResNet50\", num_classes=len(df['label'].unique()))\n",
    "mobilenet_model = build_model(\"MobileNetV2\", num_classes=len(df['label'].unique()))\n",
    "\n",
    "resnet_model.fit(train_generator, validation_data=test_generator, epochs=2)\n",
    "resnet_model.save(\"models/resnet_model.h5\")\n",
    "\n",
    "mobilenet_model.fit(train_generator, validation_data=test_generator, epochs=2)\n",
    "mobilenet_model.save(\"models/mobilenet_model.h5\")\n"
   ]
  },
  {
   "cell_type": "code",
   "execution_count": null,
   "metadata": {},
   "outputs": [],
   "source": [
    "import tensorflow as tf\n",
    "import numpy as np\n",
    "from sklearn.metrics import classification_report\n",
    "#from preprocess import create_data_generators, split_dataset, load_dataset"
   ]
  },
  {
   "cell_type": "code",
   "execution_count": null,
   "metadata": {},
   "outputs": [],
   "source": [
    "df = load_dataset(\"./dataset\")\n",
    "train_df, test_df = split_dataset(df)\n",
    "_, test_generator = create_data_generators(train_df, test_df)\n"
   ]
  },
  {
   "cell_type": "code",
   "execution_count": null,
   "metadata": {},
   "outputs": [],
   "source": [
    "# Load trained models\n",
    "resnet_model = tf.keras.models.load_model(\"models/resnet_model.h5\")\n",
    "mobilenet_model = tf.keras.models.load_model(\"models/mobilenet_model.h5\")"
   ]
  },
  {
   "cell_type": "code",
   "execution_count": null,
   "metadata": {},
   "outputs": [],
   "source": [
    "# Evaluate models\n",
    "def evaluate_model(model, test_generator):\n",
    "    y_true = test_generator.classes\n",
    "    y_pred = np.argmax(model.predict(test_generator), axis=1)\n",
    "\n",
    "    print(f\"Model Evaluation:\\n{classification_report(y_true, y_pred)}\")\n",
    "\n",
    "evaluate_model(resnet_model, test_generator)\n",
    "evaluate_model(mobilenet_model, test_generator)\n"
   ]
  }
 ],
 "metadata": {
  "kernelspec": {
   "display_name": "defect_detection",
   "language": "python",
   "name": "python3"
  },
  "language_info": {
   "codemirror_mode": {
    "name": "ipython",
    "version": 3
   },
   "file_extension": ".py",
   "mimetype": "text/x-python",
   "name": "python",
   "nbconvert_exporter": "python",
   "pygments_lexer": "ipython3",
   "version": "3.12.7"
  }
 },
 "nbformat": 4,
 "nbformat_minor": 2
}
